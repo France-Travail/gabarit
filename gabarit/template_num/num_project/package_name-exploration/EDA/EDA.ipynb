{
 "cells": [
  {
   "cell_type": "markdown",
   "metadata": {},
   "source": [
    "# Exploratory Data Analysis"
   ]
  },
  {
   "cell_type": "markdown",
   "metadata": {},
   "source": [
    "Here is a brief notebook to start your exploratory data analysis. "
   ]
  },
  {
   "cell_type": "code",
   "execution_count": null,
   "metadata": {},
   "outputs": [],
   "source": [
    "from pathlib import Path\n",
    "\n",
    "import pandas as pd\n",
    "import sweetviz\n",
    "from {{package_name}} import utils\n",
    "\n",
    "DATA_PATH = Path(utils.get_data_path())"
   ]
  },
  {
   "cell_type": "code",
   "execution_count": null,
   "metadata": {},
   "outputs": [],
   "source": [
    "dataset = \"dataset.csv\" # <-- Replace by the name of you dataset\n",
    "target_variable = \"target\" # <-- Replace by your target variable\n",
    "\n",
    "df = pd.read_csv(DATA_PATH / dataset, sep=\";\")\n",
    "df.head(3)"
   ]
  },
  {
   "cell_type": "code",
   "execution_count": null,
   "metadata": {},
   "outputs": [],
   "source": [
    "report = sweetviz.compare([df, \"Dataset\"], None, target_feat=target_variable)\n",
    "report.show_notebook()"
   ]
  }
 ],
 "metadata": {
  "kernelspec": {
   "display_name": "Python 3.8.13 ('venv_template_num': venv)",
   "language": "python",
   "name": "python3"
  },
  "language_info": {
   "codemirror_mode": {
    "name": "ipython",
    "version": 3
   },
   "file_extension": ".py",
   "mimetype": "text/x-python",
   "name": "python",
   "nbconvert_exporter": "python",
   "pygments_lexer": "ipython3",
   "version": "3.8.13"
  },
  "orig_nbformat": 4,
  "vscode": {
   "interpreter": {
    "hash": "3c4ce3d9346c91fa52fdd6bd8efd9ec857e7dd4f4537302caacbefa9813d6c40"
   }
  }
 },
 "nbformat": 4,
 "nbformat_minor": 2
}
